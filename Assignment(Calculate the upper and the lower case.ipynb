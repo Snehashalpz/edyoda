{
 "cells": [
  {
   "cell_type": "code",
   "execution_count": 4,
   "id": "fe1a0434",
   "metadata": {},
   "outputs": [
    {
     "name": "stdout",
     "output_type": "stream",
     "text": [
      "enter a string: The quick Brow Fox\n",
      "no.of Upper case characters:  3\n",
      "no.of lower case characters:  15\n"
     ]
    }
   ],
   "source": [
    "#write a python function that accepts a string and calculator the number of upper case letters and ower case letters\n",
    "\n",
    "def count_upper_lower(string):\n",
    "    upper_count = 0\n",
    "    lower_count = 0\n",
    "    \n",
    "    for char in string:\n",
    "        if char.isupper():\n",
    "            upper_count += 1\n",
    "        else:\n",
    "            lower_count += 1\n",
    "    return upper_count,lower_count\n",
    "\n",
    "reversed_sample_string = input(\"enter a string: \")\n",
    "upper,lower = count_upper_lower(reversed_sample_string)\n",
    "print(\"no.of Upper case characters: \",upper)\n",
    "print(\"no.of lower case characters: \",lower)\n"
   ]
  }
 ],
 "metadata": {
  "kernelspec": {
   "display_name": "Python 3 (ipykernel)",
   "language": "python",
   "name": "python3"
  },
  "language_info": {
   "codemirror_mode": {
    "name": "ipython",
    "version": 3
   },
   "file_extension": ".py",
   "mimetype": "text/x-python",
   "name": "python",
   "nbconvert_exporter": "python",
   "pygments_lexer": "ipython3",
   "version": "3.10.9"
  }
 },
 "nbformat": 4,
 "nbformat_minor": 5
}
