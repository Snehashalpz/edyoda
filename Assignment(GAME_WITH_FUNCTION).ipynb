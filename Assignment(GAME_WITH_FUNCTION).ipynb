{
 "cells": [
  {
   "cell_type": "code",
   "execution_count": 5,
   "id": "fe1a0434",
   "metadata": {},
   "outputs": [
    {
     "name": "stdout",
     "output_type": "stream",
     "text": [
      "enter a list,(separate by space):8 2 3 0 7\n",
      "20\n"
     ]
    }
   ],
   "source": [
    "#write a python function to sum all the numbers in a list\n",
    "\n",
    "def sum_list():\n",
    "    numbers=input(\"enter a list,(separate by space):\").split()\n",
    "    total = 0\n",
    "    for num in numbers:\n",
    "        if num.isdigit():\n",
    "            total += int(num)\n",
    "    return total\n",
    "\n",
    "\n",
    "result = sum_list()\n",
    "print(result)"
   ]
  }
 ],
 "metadata": {
  "kernelspec": {
   "display_name": "Python 3 (ipykernel)",
   "language": "python",
   "name": "python3"
  },
  "language_info": {
   "codemirror_mode": {
    "name": "ipython",
    "version": 3
   },
   "file_extension": ".py",
   "mimetype": "text/x-python",
   "name": "python",
   "nbconvert_exporter": "python",
   "pygments_lexer": "ipython3",
   "version": "3.10.9"
  }
 },
 "nbformat": 4,
 "nbformat_minor": 5
}
