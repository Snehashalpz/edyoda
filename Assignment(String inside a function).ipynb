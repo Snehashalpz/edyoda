{
 "cells": [
  {
   "cell_type": "code",
   "execution_count": 1,
   "id": "fe1a0434",
   "metadata": {},
   "outputs": [
    {
     "name": "stdout",
     "output_type": "stream",
     "text": [
      "enter a string: 1234abcd\n",
      "the value of sample reverse string dcba4321\n"
     ]
    }
   ],
   "source": [
    "#write a python program to reverse a string\n",
    "\n",
    "def value_reverse(value):\n",
    "    for reverse in value:\n",
    "        reverse = value[::-1]\n",
    "    return (reverse)\n",
    "\n",
    "sample_reverse_string=input(\"enter a string: \")\n",
    "result = value_reverse(sample_reverse_string)\n",
    "print(\"the value of sample reverse string\",result)\n",
    "    "
   ]
  },
  {
   "cell_type": "code",
   "execution_count": null,
   "id": "55105fbb",
   "metadata": {},
   "outputs": [],
   "source": []
  },
  {
   "cell_type": "code",
   "execution_count": null,
   "id": "538bf770",
   "metadata": {},
   "outputs": [],
   "source": []
  },
  {
   "cell_type": "code",
   "execution_count": null,
   "id": "dfd1320a",
   "metadata": {},
   "outputs": [],
   "source": []
  }
 ],
 "metadata": {
  "kernelspec": {
   "display_name": "Python 3 (ipykernel)",
   "language": "python",
   "name": "python3"
  },
  "language_info": {
   "codemirror_mode": {
    "name": "ipython",
    "version": 3
   },
   "file_extension": ".py",
   "mimetype": "text/x-python",
   "name": "python",
   "nbconvert_exporter": "python",
   "pygments_lexer": "ipython3",
   "version": "3.10.9"
  }
 },
 "nbformat": 4,
 "nbformat_minor": 5
}
